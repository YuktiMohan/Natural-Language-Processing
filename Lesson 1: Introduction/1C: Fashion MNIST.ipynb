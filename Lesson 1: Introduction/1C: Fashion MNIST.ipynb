{
  "nbformat": 4,
  "nbformat_minor": 0,
  "metadata": {
    "colab": {
      "name": "1C: Fashion MNIST.ipynb",
      "provenance": [],
      "collapsed_sections": [],
      "authorship_tag": "ABX9TyPTUtnEZf1nC/Lz8EzJj5US",
      "include_colab_link": true
    },
    "kernelspec": {
      "name": "python3",
      "display_name": "Python 3"
    }
  },
  "cells": [
    {
      "cell_type": "markdown",
      "metadata": {
        "id": "view-in-github",
        "colab_type": "text"
      },
      "source": [
        "<a href=\"https://colab.research.google.com/github/YuktiMohan/Tensorflow-in-Practice/blob/master/Lesson%201%3A%20Introduction/1C%3A%20Fashion%20MNIST.ipynb\" target=\"_parent\"><img src=\"https://colab.research.google.com/assets/colab-badge.svg\" alt=\"Open In Colab\"/></a>"
      ]
    },
    {
      "cell_type": "code",
      "metadata": {
        "id": "lVRTXhLA06Yv",
        "colab_type": "code",
        "outputId": "40f08caf-0f27-4f59-c0c5-43c42ecc2235",
        "colab": {
          "base_uri": "https://localhost:8080/",
          "height": 34
        }
      },
      "source": [
        "import tensorflow as tf\n",
        "print(tf.__version__)"
      ],
      "execution_count": 0,
      "outputs": [
        {
          "output_type": "stream",
          "text": [
            "2.2.0-rc2\n"
          ],
          "name": "stdout"
        }
      ]
    },
    {
      "cell_type": "code",
      "metadata": {
        "id": "x7aF-eeI1Die",
        "colab_type": "code",
        "colab": {}
      },
      "source": [
        "from tensorflow import keras\n",
        "import numpy as np\n",
        "import matplotlib.pyplot as plt"
      ],
      "execution_count": 0,
      "outputs": []
    },
    {
      "cell_type": "code",
      "metadata": {
        "id": "1u5qAFAv1jbq",
        "colab_type": "code",
        "outputId": "9914eadf-cb09-4a2c-d9ee-b302625d3cad",
        "colab": {
          "base_uri": "https://localhost:8080/",
          "height": 151
        }
      },
      "source": [
        "#Loading the Fashion MNIST dataset and segregating it into training and testing sets\n",
        "\n",
        "fashion_mnist = keras.datasets.fashion_mnist\n",
        "(training_images, training_labels), (testing_images, testing_labels) = fashion_mnist.load_data()"
      ],
      "execution_count": 0,
      "outputs": [
        {
          "output_type": "stream",
          "text": [
            "Downloading data from https://storage.googleapis.com/tensorflow/tf-keras-datasets/train-labels-idx1-ubyte.gz\n",
            "32768/29515 [=================================] - 0s 0us/step\n",
            "Downloading data from https://storage.googleapis.com/tensorflow/tf-keras-datasets/train-images-idx3-ubyte.gz\n",
            "26427392/26421880 [==============================] - 0s 0us/step\n",
            "Downloading data from https://storage.googleapis.com/tensorflow/tf-keras-datasets/t10k-labels-idx1-ubyte.gz\n",
            "8192/5148 [===============================================] - 0s 0us/step\n",
            "Downloading data from https://storage.googleapis.com/tensorflow/tf-keras-datasets/t10k-images-idx3-ubyte.gz\n",
            "4423680/4422102 [==============================] - 0s 0us/step\n"
          ],
          "name": "stdout"
        }
      ]
    },
    {
      "cell_type": "code",
      "metadata": {
        "id": "nanV_qlB15G8",
        "colab_type": "code",
        "outputId": "24991258-01bf-49cb-db6d-91b5cb2a4a7c",
        "colab": {
          "base_uri": "https://localhost:8080/",
          "height": 752
        }
      },
      "source": [
        "#To visualise the kind of data we are working with\n",
        "\n",
        "np.set_printoptions(linewidth=200)\n",
        "plt.imshow(training_images[106])\n",
        "print(training_labels[106])\n",
        "print(training_images[106])"
      ],
      "execution_count": 0,
      "outputs": [
        {
          "output_type": "stream",
          "text": [
            "1\n",
            "[[  0   0   0   0   0   0   0   0   0 228 215 204 211  63 114 224 200 218 208   0   0   0   0   0   0   0   0   0]\n",
            " [  0   0   0   0   0   0   0   0   0 232 204 203 215 228 221 209 204 205 236   0   0   0   0   0   0   0   0   0]\n",
            " [  0   0   0   0   0   0   0   0  34 243 193 196 188 195 192 192 196 198 244  21   0   0   0   0   0   0   0   0]\n",
            " [  0   0   0   0   0   0   0   0  90 239 193 200 198 201 198 198 199 193 242  74   0   0   0   0   0   0   0   0]\n",
            " [  0   0   0   0   0   0   0   0 116 228 193 200 197 200 198 197 200 192 236 105   0   0   0   0   0   0   0   0]\n",
            " [  0   0   0   0   0   0   0   0 146 221 195 199 197 199 197 198 198 193 226 133   0   0   0   0   0   0   0   0]\n",
            " [  0   0   0   0   0   0   0   0 157 216 196 199 198 201 200 198 199 193 215 162   0   0   0   0   0   0   0   0]\n",
            " [  0   0   0   0   0   0   0   0 161 216 194 201 201 205 198 203 198 195 212 166   0   0   0   0   0   0   0   0]\n",
            " [  0   0   0   0   0   0   0   0 151 218 194 196 229 152 127 233 192 194 216 157   0   0   0   0   0   0   0   0]\n",
            " [  0   0   0   0   0   0   0   0 123 225 194 189 243 122 108 250 188 193 228 127   0   0   0   0   0   0   0   0]\n",
            " [  0   0   0   0   0   0   0   0 100 236 191 188 254  56  58 254 188 192 237  81   0   0   0   0   0   0   0   0]\n",
            " [  0   0   0   0   0   0   0   0  62 242 195 198 255   3  19 254 196 197 241  49   0   0   0   0   0   0   0   0]\n",
            " [  0   0   0   0   0   0   0   0  36 242 196 199 253   0   0 253 200 197 244  18   0   0   0   0   0   0   0   0]\n",
            " [  0   0   0   0   0   0   0   0  13 239 198 203 236   0   0 242 202 201 230   0   0   0   0   0   0   0   0   0]\n",
            " [  0   0   0   0   0   0   0   0   0 231 200 207 210   0   0 238 205 206 200   0   0   0   0   0   0   0   0   0]\n",
            " [  0   0   0   0   0   0   0   0   0 215 203 215 164   0   0 218 207 210 179   0   0   0   0   0   0   0   0   0]\n",
            " [  0   0   0   0   0   0   0   0   0 204 206 218 121   0   0 212 208 212 161   0   0   0   0   0   0   0   0   0]\n",
            " [  0   0   0   0   0   0   0   0   0 200 208 219 129   0   0 206 212 216 145   0   0   0   0   0   0   0   0   0]\n",
            " [  0   0   0   0   0   0   0   0   0 202 207 223 121   0   0 184 215 215 140   0   0   0   0   0   0   0   0   0]\n",
            " [  0   0   0   0   0   0   0   0   0 212 205 222  97   0   0 184 215 214 143   0   0   0   0   0   0   0   0   0]\n",
            " [  0   0   0   0   0   0   0   0   0 225 203 223  80   0   0 176 216 214 156   0   0   0   0   0   0   0   0   0]\n",
            " [  0   0   0   0   0   0   0   0   0 199 204 225  66   0   0 181 216 215 144   0   0   0   0   0   0   0   0   0]\n",
            " [  0   0   0   0   0   0   0   0   0 206 204 222  44   0   0 211 214 219 125   0   0   0   0   0   0   0   0   0]\n",
            " [  0   0   0   0   0   0   0   0   0 208 206 214  23   0   0 217 215 224 122   0   0   0   0   0   0   0   0   0]\n",
            " [  0   0   0   0   0   0   0   0   0 202 209 208   4   0   0 189 219 222 109   0   0   0   0   0   0   0   0   0]\n",
            " [  0   0   0   0   0   0   0   0   0 194 213 192   0   0   0 128 220 216 101   0   0   0   0   0   0   0   0   0]\n",
            " [  0   0   0   0   0   0   0   0   0 198 215 195   0   0   0 106 221 219 137   0   0   0   0   0   0   0   0   0]\n",
            " [  0   0   0   0   0   0   0   0   0 170 216 165   0   0   0  50 211 202  81   0   0   0   0   0   0   0   0   0]]\n"
          ],
          "name": "stdout"
        },
        {
          "output_type": "display_data",
          "data": {
            "image/png": "[encoded data removed]",
            "text/plain": [
              "<Figure size 432x288 with 1 Axes>"
            ]
          },
          "metadata": {
            "tags": []
          }
        }
      ]
    },
    {
      "cell_type": "code",
      "metadata": {
        "id": "LzBiXjNy2lGl",
        "colab_type": "code",
        "colab": {}
      },
      "source": [
        "#Normalising the training and testing images\n",
        "\n",
        "training_images = training_images/255.0\n",
        "testing_images = testing_images/255.0"
      ],
      "execution_count": 0,
      "outputs": []
    },
    {
      "cell_type": "code",
      "metadata": {
        "id": "knEeDMoK2D8R",
        "colab_type": "code",
        "colab": {}
      },
      "source": [
        "model = keras.models.Sequential([ \n",
        "                                 keras.layers.Flatten(),\n",
        "                                 keras.layers.Dense(512, activation=tf.nn.relu),\n",
        "                                 keras.layers.Dense(10, activation='softmax')\n",
        "])"
      ],
      "execution_count": 0,
      "outputs": []
    },
    {
      "cell_type": "markdown",
      "metadata": {
        "id": "bOa-HchD6z9J",
        "colab_type": "text"
      },
      "source": [
        "- **Sequential**: That defines a SEQUENCE of layers in the neural network\n",
        "\n",
        "- **Flatten**: It converts a 2D array (here, 28X28) into a 1D array (here, 784X1)\n",
        "\n",
        "- **Dense**: Adds a layer of neurons\n",
        "\n",
        "- Each layer of neurons need an **activation function** to tell them what to do. For example:\n",
        "\n",
        "  1. **Relu** effectively means \"If X>0 return X, else return 0\" -- so what it does it it only passes values 0 or greater to the next layer in the network.\n",
        "\n",
        "  2. **Softmax** takes a set of values, and effectively picks the biggest one, so, for example, if the output of the last layer looks like [0.1, 0.1, 0.05, 0.1, 9.5, 0.1, 0.05, 0.05, 0.05], it saves you from fishing through it looking for the biggest value, and turns it into [0,0,0,0,1,0,0,0,0] -- The goal is to save a lot of coding!"
      ]
    },
    {
      "cell_type": "code",
      "metadata": {
        "id": "8JEYEMlJ3JDY",
        "colab_type": "code",
        "colab": {}
      },
      "source": [
        "model.compile(optimizer = 'adam',\n",
        "              loss = 'sparse_categorical_crossentropy',\n",
        "              metrics=['accuracy'])"
      ],
      "execution_count": 0,
      "outputs": []
    },
    {
      "cell_type": "code",
      "metadata": {
        "id": "CT9l55zW3aOJ",
        "colab_type": "code",
        "outputId": "83af55ef-9166-48b4-de65-b400ed66f506",
        "colab": {
          "base_uri": "https://localhost:8080/",
          "height": 370
        }
      },
      "source": [
        "model.fit(training_images, training_labels, epochs = 10)"
      ],
      "execution_count": 0,
      "outputs": [
        {
          "output_type": "stream",
          "text": [
            "Epoch 1/10\n",
            "1875/1875 [==============================] - 6s 3ms/step - loss: 0.4739 - accuracy: 0.8308\n",
            "Epoch 2/10\n",
            "1875/1875 [==============================] - 6s 3ms/step - loss: 0.3608 - accuracy: 0.8667\n",
            "Epoch 3/10\n",
            "1875/1875 [==============================] - 6s 3ms/step - loss: 0.3236 - accuracy: 0.8795\n",
            "Epoch 4/10\n",
            "1875/1875 [==============================] - 6s 3ms/step - loss: 0.2996 - accuracy: 0.8885\n",
            "Epoch 5/10\n",
            "1875/1875 [==============================] - 6s 3ms/step - loss: 0.2808 - accuracy: 0.8938\n",
            "Epoch 6/10\n",
            "1875/1875 [==============================] - 7s 3ms/step - loss: 0.2653 - accuracy: 0.9004\n",
            "Epoch 7/10\n",
            "1875/1875 [==============================] - 7s 4ms/step - loss: 0.2534 - accuracy: 0.9046\n",
            "Epoch 8/10\n",
            "1875/1875 [==============================] - 7s 4ms/step - loss: 0.2407 - accuracy: 0.9097\n",
            "Epoch 9/10\n",
            "1875/1875 [==============================] - 6s 3ms/step - loss: 0.2313 - accuracy: 0.9118\n",
            "Epoch 10/10\n",
            "1875/1875 [==============================] - 6s 3ms/step - loss: 0.2225 - accuracy: 0.9164\n"
          ],
          "name": "stdout"
        },
        {
          "output_type": "execute_result",
          "data": {
            "text/plain": [
              "<tensorflow.python.keras.callbacks.History at 0x7f49d53f1198>"
            ]
          },
          "metadata": {
            "tags": []
          },
          "execution_count": 8
        }
      ]
    },
    {
      "cell_type": "code",
      "metadata": {
        "id": "Ee0DGF3E3mJh",
        "colab_type": "code",
        "outputId": "dc4d4f00-5338-43dd-d92f-785c9044b0bc",
        "colab": {
          "base_uri": "https://localhost:8080/",
          "height": 50
        }
      },
      "source": [
        "model.evaluate(testing_images, testing_labels)"
      ],
      "execution_count": 0,
      "outputs": [
        {
          "output_type": "stream",
          "text": [
            "313/313 [==============================] - 1s 2ms/step - loss: 0.3303 - accuracy: 0.8877\n"
          ],
          "name": "stdout"
        },
        {
          "output_type": "execute_result",
          "data": {
            "text/plain": [
              "[0.3303018808364868, 0.8877000212669373]"
            ]
          },
          "metadata": {
            "tags": []
          },
          "execution_count": 9
        }
      ]
    },
    {
      "cell_type": "markdown",
      "metadata": {
        "id": "_Cc3buZY6W2-",
        "colab_type": "text"
      },
      "source": [
        "Training accuracy: 91.64%\n",
        "\n",
        "Testing accuracy: 88.77%"
      ]
    },
    {
      "cell_type": "code",
      "metadata": {
        "id": "NY7czv1u7g2a",
        "colab_type": "code",
        "outputId": "447473ac-963f-454a-c70a-f5e895e7ca21",
        "colab": {
          "base_uri": "https://localhost:8080/",
          "height": 50
        }
      },
      "source": [
        "classifications = model.predict(testing_images)\n",
        "\n",
        "print(classifications[0])\n",
        "print(testing_labels[0])"
      ],
      "execution_count": 0,
      "outputs": [
        {
          "output_type": "stream",
          "text": [
            "[4.8922351e-09 2.2976145e-10 7.4894180e-10 5.1735339e-12 3.1591434e-11 4.3088212e-04 6.7731300e-08 4.5902366e-03 2.5180366e-10 9.9497885e-01]\n",
            "9\n"
          ],
          "name": "stdout"
        }
      ]
    },
    {
      "cell_type": "code",
      "metadata": {
        "id": "oaL6qZiq9VLE",
        "colab_type": "code",
        "colab": {}
      },
      "source": [
        "class myCallback(tf.keras.callbacks.Callback):\n",
        "  def on_epoch_end(self, epoch, logs={}):\n",
        "    if(logs.get('accuracy')>0.9):\n",
        "      print(\"\\nReached 90% accuracy, hence cancelling training!\")\n",
        "      self.model.stop_training = True"
      ],
      "execution_count": 0,
      "outputs": []
    },
    {
      "cell_type": "markdown",
      "metadata": {
        "id": "gCwwtIs6_W5v",
        "colab_type": "text"
      },
      "source": [
        "Callback saves time when we know the requirements of the accuracy/loss as it stops as soon as it reaches the given threshold. Thus it does not train for the entire range of epochs mentioned in the .fit() function. "
      ]
    },
    {
      "cell_type": "code",
      "metadata": {
        "id": "Kvap-h1K-JUp",
        "colab_type": "code",
        "colab": {}
      },
      "source": [
        "callback = myCallback()\n",
        "new_model = keras.models.Sequential([\n",
        "                                    keras.layers.Flatten(),\n",
        "                                    keras.layers.Dense(512, activation = 'relu'),\n",
        "                                    keras.layers.Dense(10, activation = 'softmax')\n",
        "])"
      ],
      "execution_count": 0,
      "outputs": []
    },
    {
      "cell_type": "code",
      "metadata": {
        "id": "T7i6eCzi-icc",
        "colab_type": "code",
        "outputId": "817a3143-bf7d-4645-ad6b-b4df80231b7c",
        "colab": {
          "base_uri": "https://localhost:8080/",
          "height": 269
        }
      },
      "source": [
        "new_model.compile(optimizer = 'adam', loss = 'sparse_categorical_crossentropy', metrics=['accuracy'])\n",
        "new_model.fit(training_images, training_labels, epochs = 10, callbacks = [callback])"
      ],
      "execution_count": 0,
      "outputs": [
        {
          "output_type": "stream",
          "text": [
            "Epoch 1/10\n",
            "1875/1875 [==============================] - 7s 3ms/step - loss: 0.4730 - accuracy: 0.8319\n",
            "Epoch 2/10\n",
            "1875/1875 [==============================] - 7s 4ms/step - loss: 0.3600 - accuracy: 0.8686\n",
            "Epoch 3/10\n",
            "1875/1875 [==============================] - 6s 3ms/step - loss: 0.3206 - accuracy: 0.8812\n",
            "Epoch 4/10\n",
            "1875/1875 [==============================] - 6s 3ms/step - loss: 0.2969 - accuracy: 0.8909\n",
            "Epoch 5/10\n",
            "1875/1875 [==============================] - 6s 3ms/step - loss: 0.2780 - accuracy: 0.8973\n",
            "Epoch 6/10\n",
            "1871/1875 [============================>.] - ETA: 0s - loss: 0.2629 - accuracy: 0.9028\n",
            "Reached 90% accuracy, hence cancelling training!\n",
            "1875/1875 [==============================] - 6s 3ms/step - loss: 0.2630 - accuracy: 0.9027\n"
          ],
          "name": "stdout"
        },
        {
          "output_type": "execute_result",
          "data": {
            "text/plain": [
              "<tensorflow.python.keras.callbacks.History at 0x7f49cc4b1518>"
            ]
          },
          "metadata": {
            "tags": []
          },
          "execution_count": 25
        }
      ]
    }
  ]
}