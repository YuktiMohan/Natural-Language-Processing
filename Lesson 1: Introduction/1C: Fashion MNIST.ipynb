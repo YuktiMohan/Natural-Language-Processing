{
  "nbformat": 4,
  "nbformat_minor": 0,
  "metadata": {
    "colab": {
      "name": "1C: Fashion MNIST.ipynb",
      "provenance": [],
      "authorship_tag": "ABX9TyPYixheWIonLtMS6nn3m86F",
      "include_colab_link": true
    },
    "kernelspec": {
      "name": "python3",
      "display_name": "Python 3"
    }
  },
  "cells": [
    {
      "cell_type": "markdown",
      "metadata": {
        "id": "view-in-github",
        "colab_type": "text"
      },
      "source": [
        "<a href=\"https://colab.research.google.com/github/YuktiMohan/Tensorflow-in-Practice/blob/master/Lesson%201%3A%20Introduction/1C%3A%20Fashion%20MNIST.ipynb\" target=\"_parent\"><img src=\"https://colab.research.google.com/assets/colab-badge.svg\" alt=\"Open In Colab\"/></a>"
      ]
    },
    {
      "cell_type": "code",
      "metadata": {
        "id": "lVRTXhLA06Yv",
        "colab_type": "code",
        "colab": {
          "base_uri": "https://localhost:8080/",
          "height": 34
        },
        "outputId": "aedf0825-4a5e-4a87-aa46-3a8b6fd4b372"
      },
      "source": [
        "import tensorflow as tf\n",
        "print(tf.__version__)"
      ],
      "execution_count": 1,
      "outputs": [
        {
          "output_type": "stream",
          "text": [
            "2.2.0-rc2\n"
          ],
          "name": "stdout"
        }
      ]
    },
    {
      "cell_type": "code",
      "metadata": {
        "id": "x7aF-eeI1Die",
        "colab_type": "code",
        "colab": {}
      },
      "source": [
        "from tensorflow import keras\n",
        "import numpy as np\n",
        "import matplotlib.pyplot as plt"
      ],
      "execution_count": 0,
      "outputs": []
    },
    {
      "cell_type": "code",
      "metadata": {
        "id": "1u5qAFAv1jbq",
        "colab_type": "code",
        "colab": {}
      },
      "source": [
        "#Loading the Fashion MNIST dataset and segregating it into training and testing sets\n",
        "\n",
        "fashion_mnist = keras.datasets.fashion_mnist\n",
        "(training_images, training_labels), (testing_images, testing_labels) = fashion_mnist.load_data()"
      ],
      "execution_count": 0,
      "outputs": []
    },
    {
      "cell_type": "code",
      "metadata": {
        "id": "nanV_qlB15G8",
        "colab_type": "code",
        "colab": {
          "base_uri": "https://localhost:8080/",
          "height": 752
        },
        "outputId": "5cb3a5a3-f6e9-4380-c599-ba405d1aadcd"
      },
      "source": [
        "#To visualise the kind of data we are working with\n",
        "\n",
        "np.set_printoptions(linewidth=200)\n",
        "plt.imshow(training_images[106])\n",
        "print(training_labels[106])\n",
        "print(training_images[106])"
      ],
      "execution_count": 4,
      "outputs": [
        {
          "output_type": "stream",
          "text": [
            "1\n",
            "[[  0   0   0   0   0   0   0   0   0 228 215 204 211  63 114 224 200 218 208   0   0   0   0   0   0   0   0   0]\n",
            " [  0   0   0   0   0   0   0   0   0 232 204 203 215 228 221 209 204 205 236   0   0   0   0   0   0   0   0   0]\n",
            " [  0   0   0   0   0   0   0   0  34 243 193 196 188 195 192 192 196 198 244  21   0   0   0   0   0   0   0   0]\n",
            " [  0   0   0   0   0   0   0   0  90 239 193 200 198 201 198 198 199 193 242  74   0   0   0   0   0   0   0   0]\n",
            " [  0   0   0   0   0   0   0   0 116 228 193 200 197 200 198 197 200 192 236 105   0   0   0   0   0   0   0   0]\n",
            " [  0   0   0   0   0   0   0   0 146 221 195 199 197 199 197 198 198 193 226 133   0   0   0   0   0   0   0   0]\n",
            " [  0   0   0   0   0   0   0   0 157 216 196 199 198 201 200 198 199 193 215 162   0   0   0   0   0   0   0   0]\n",
            " [  0   0   0   0   0   0   0   0 161 216 194 201 201 205 198 203 198 195 212 166   0   0   0   0   0   0   0   0]\n",
            " [  0   0   0   0   0   0   0   0 151 218 194 196 229 152 127 233 192 194 216 157   0   0   0   0   0   0   0   0]\n",
            " [  0   0   0   0   0   0   0   0 123 225 194 189 243 122 108 250 188 193 228 127   0   0   0   0   0   0   0   0]\n",
            " [  0   0   0   0   0   0   0   0 100 236 191 188 254  56  58 254 188 192 237  81   0   0   0   0   0   0   0   0]\n",
            " [  0   0   0   0   0   0   0   0  62 242 195 198 255   3  19 254 196 197 241  49   0   0   0   0   0   0   0   0]\n",
            " [  0   0   0   0   0   0   0   0  36 242 196 199 253   0   0 253 200 197 244  18   0   0   0   0   0   0   0   0]\n",
            " [  0   0   0   0   0   0   0   0  13 239 198 203 236   0   0 242 202 201 230   0   0   0   0   0   0   0   0   0]\n",
            " [  0   0   0   0   0   0   0   0   0 231 200 207 210   0   0 238 205 206 200   0   0   0   0   0   0   0   0   0]\n",
            " [  0   0   0   0   0   0   0   0   0 215 203 215 164   0   0 218 207 210 179   0   0   0   0   0   0   0   0   0]\n",
            " [  0   0   0   0   0   0   0   0   0 204 206 218 121   0   0 212 208 212 161   0   0   0   0   0   0   0   0   0]\n",
            " [  0   0   0   0   0   0   0   0   0 200 208 219 129   0   0 206 212 216 145   0   0   0   0   0   0   0   0   0]\n",
            " [  0   0   0   0   0   0   0   0   0 202 207 223 121   0   0 184 215 215 140   0   0   0   0   0   0   0   0   0]\n",
            " [  0   0   0   0   0   0   0   0   0 212 205 222  97   0   0 184 215 214 143   0   0   0   0   0   0   0   0   0]\n",
            " [  0   0   0   0   0   0   0   0   0 225 203 223  80   0   0 176 216 214 156   0   0   0   0   0   0   0   0   0]\n",
            " [  0   0   0   0   0   0   0   0   0 199 204 225  66   0   0 181 216 215 144   0   0   0   0   0   0   0   0   0]\n",
            " [  0   0   0   0   0   0   0   0   0 206 204 222  44   0   0 211 214 219 125   0   0   0   0   0   0   0   0   0]\n",
            " [  0   0   0   0   0   0   0   0   0 208 206 214  23   0   0 217 215 224 122   0   0   0   0   0   0   0   0   0]\n",
            " [  0   0   0   0   0   0   0   0   0 202 209 208   4   0   0 189 219 222 109   0   0   0   0   0   0   0   0   0]\n",
            " [  0   0   0   0   0   0   0   0   0 194 213 192   0   0   0 128 220 216 101   0   0   0   0   0   0   0   0   0]\n",
            " [  0   0   0   0   0   0   0   0   0 198 215 195   0   0   0 106 221 219 137   0   0   0   0   0   0   0   0   0]\n",
            " [  0   0   0   0   0   0   0   0   0 170 216 165   0   0   0  50 211 202  81   0   0   0   0   0   0   0   0   0]]\n"
          ],
          "name": "stdout"
        },
        {
          "output_type": "display_data",
          "data": {
            "image/png": "[encoded data removed]",
            "text/plain": [
              "<Figure size 432x288 with 1 Axes>"
            ]
          },
          "metadata": {
            "tags": []
          }
        }
      ]
    },
    {
      "cell_type": "code",
      "metadata": {
        "id": "LzBiXjNy2lGl",
        "colab_type": "code",
        "colab": {}
      },
      "source": [
        "#Normalising the training and testing images\n",
        "\n",
        "training_images = training_images/255.0\n",
        "testing_images = testing_images/255.0"
      ],
      "execution_count": 0,
      "outputs": []
    },
    {
      "cell_type": "code",
      "metadata": {
        "id": "knEeDMoK2D8R",
        "colab_type": "code",
        "colab": {}
      },
      "source": [
        "model = keras.models.Sequential([ \n",
        "                                 keras.layers.Flatten(),\n",
        "                                 keras.layers.Dense(512, activation=tf.nn.relu),\n",
        "                                 keras.layers.Dense(10, activation='softmax')\n",
        "])"
      ],
      "execution_count": 0,
      "outputs": []
    },
    {
      "cell_type": "markdown",
      "metadata": {
        "id": "bOa-HchD6z9J",
        "colab_type": "text"
      },
      "source": [
        "- **Sequential**: That defines a SEQUENCE of layers in the neural network\n",
        "\n",
        "- **Flatten**: It converts a 2D array (here, 28X28) into a 1D array (here, 784X1)\n",
        "\n",
        "- **Dense**: Adds a layer of neurons\n",
        "\n",
        "- Each layer of neurons need an **activation function** to tell them what to do. For example:\n",
        "\n",
        "  1. **Relu** effectively means \"If X>0 return X, else return 0\" -- so what it does it it only passes values 0 or greater to the next layer in the network.\n",
        "\n",
        "  2. **Softmax** takes a set of values, and effectively picks the biggest one, so, for example, if the output of the last layer looks like [0.1, 0.1, 0.05, 0.1, 9.5, 0.1, 0.05, 0.05, 0.05], it saves you from fishing through it looking for the biggest value, and turns it into [0,0,0,0,1,0,0,0,0] -- The goal is to save a lot of coding!"
      ]
    },
    {
      "cell_type": "code",
      "metadata": {
        "id": "8JEYEMlJ3JDY",
        "colab_type": "code",
        "colab": {}
      },
      "source": [
        "model.compile(optimizer = 'adam',\n",
        "              loss = 'sparse_categorical_crossentropy',\n",
        "              metrics=['accuracy'])"
      ],
      "execution_count": 0,
      "outputs": []
    },
    {
      "cell_type": "code",
      "metadata": {
        "id": "CT9l55zW3aOJ",
        "colab_type": "code",
        "colab": {
          "base_uri": "https://localhost:8080/",
          "height": 370
        },
        "outputId": "6a2646bc-0624-49a7-e9c5-faf90f9736f3"
      },
      "source": [
        "model.fit(training_images, training_labels, epochs = 10)"
      ],
      "execution_count": 8,
      "outputs": [
        {
          "output_type": "stream",
          "text": [
            "Epoch 1/10\n",
            "1875/1875 [==============================] - 7s 4ms/step - loss: 0.4732 - accuracy: 0.8305\n",
            "Epoch 2/10\n",
            "1875/1875 [==============================] - 7s 4ms/step - loss: 0.3576 - accuracy: 0.8689\n",
            "Epoch 3/10\n",
            "1875/1875 [==============================] - 7s 4ms/step - loss: 0.3197 - accuracy: 0.8825\n",
            "Epoch 4/10\n",
            "1875/1875 [==============================] - 7s 4ms/step - loss: 0.2964 - accuracy: 0.8918\n",
            "Epoch 5/10\n",
            "1875/1875 [==============================] - 7s 4ms/step - loss: 0.2792 - accuracy: 0.8962\n",
            "Epoch 6/10\n",
            "1875/1875 [==============================] - 6s 3ms/step - loss: 0.2652 - accuracy: 0.9013\n",
            "Epoch 7/10\n",
            "1875/1875 [==============================] - 6s 3ms/step - loss: 0.2510 - accuracy: 0.9061\n",
            "Epoch 8/10\n",
            "1875/1875 [==============================] - 6s 3ms/step - loss: 0.2420 - accuracy: 0.9098\n",
            "Epoch 9/10\n",
            "1875/1875 [==============================] - 6s 3ms/step - loss: 0.2294 - accuracy: 0.9143\n",
            "Epoch 10/10\n",
            "1875/1875 [==============================] - 7s 4ms/step - loss: 0.2211 - accuracy: 0.9169\n"
          ],
          "name": "stdout"
        },
        {
          "output_type": "execute_result",
          "data": {
            "text/plain": [
              "<tensorflow.python.keras.callbacks.History at 0x7fd82a412be0>"
            ]
          },
          "metadata": {
            "tags": []
          },
          "execution_count": 8
        }
      ]
    },
    {
      "cell_type": "code",
      "metadata": {
        "id": "Ee0DGF3E3mJh",
        "colab_type": "code",
        "colab": {
          "base_uri": "https://localhost:8080/",
          "height": 50
        },
        "outputId": "9d36c0e9-695d-4c2c-93e5-30e8eac5d53b"
      },
      "source": [
        "model.evaluate(testing_images, testing_labels)"
      ],
      "execution_count": 9,
      "outputs": [
        {
          "output_type": "stream",
          "text": [
            "313/313 [==============================] - 1s 2ms/step - loss: 0.3512 - accuracy: 0.8748\n"
          ],
          "name": "stdout"
        },
        {
          "output_type": "execute_result",
          "data": {
            "text/plain": [
              "[0.3512299954891205, 0.8748000264167786]"
            ]
          },
          "metadata": {
            "tags": []
          },
          "execution_count": 9
        }
      ]
    },
    {
      "cell_type": "markdown",
      "metadata": {
        "id": "_Cc3buZY6W2-",
        "colab_type": "text"
      },
      "source": [
        "Training accuracy: 91.69%\n",
        "\n",
        "Testing accuracy: 87.48%"
      ]
    },
    {
      "cell_type": "code",
      "metadata": {
        "id": "NY7czv1u7g2a",
        "colab_type": "code",
        "colab": {
          "base_uri": "https://localhost:8080/",
          "height": 50
        },
        "outputId": "8a5a3f0a-2228-43cd-fe3f-f7cd7adf0bcc"
      },
      "source": [
        "classifications = model.predict(testing_images)\n",
        "\n",
        "print(classifications[0])\n",
        "print(testing_labels[0])"
      ],
      "execution_count": 11,
      "outputs": [
        {
          "output_type": "stream",
          "text": [
            "[1.4850772e-09 9.1505303e-11 3.1867398e-11 2.7962845e-15 3.4334802e-10 3.9045748e-03 3.1786631e-09 1.0688119e-02 3.0296790e-09 9.8540735e-01]\n",
            "9\n"
          ],
          "name": "stdout"
        }
      ]
    }
  ]
}